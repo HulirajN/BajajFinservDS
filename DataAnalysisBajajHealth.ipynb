{
  "nbformat": 4,
  "nbformat_minor": 0,
  "metadata": {
    "colab": {
      "provenance": []
    },
    "kernelspec": {
      "name": "python3",
      "display_name": "Python 3"
    },
    "language_info": {
      "name": "python"
    }
  },
  "cells": [
    {
      "cell_type": "code",
      "execution_count": 2,
      "metadata": {
        "colab": {
          "base_uri": "https://localhost:8080/",
          "height": 73
        },
        "id": "DsyTabfLYY5s",
        "outputId": "d24bb5f7-422e-4d44-9de9-8048cbd8c2b5"
      },
      "outputs": [
        {
          "output_type": "display_data",
          "data": {
            "text/plain": [
              "<IPython.core.display.HTML object>"
            ],
            "text/html": [
              "\n",
              "     <input type=\"file\" id=\"files-5abb5721-777a-4d4b-967e-9ef64cb4a1f4\" name=\"files[]\" multiple disabled\n",
              "        style=\"border:none\" />\n",
              "     <output id=\"result-5abb5721-777a-4d4b-967e-9ef64cb4a1f4\">\n",
              "      Upload widget is only available when the cell has been executed in the\n",
              "      current browser session. Please rerun this cell to enable.\n",
              "      </output>\n",
              "      <script>// Copyright 2017 Google LLC\n",
              "//\n",
              "// Licensed under the Apache License, Version 2.0 (the \"License\");\n",
              "// you may not use this file except in compliance with the License.\n",
              "// You may obtain a copy of the License at\n",
              "//\n",
              "//      http://www.apache.org/licenses/LICENSE-2.0\n",
              "//\n",
              "// Unless required by applicable law or agreed to in writing, software\n",
              "// distributed under the License is distributed on an \"AS IS\" BASIS,\n",
              "// WITHOUT WARRANTIES OR CONDITIONS OF ANY KIND, either express or implied.\n",
              "// See the License for the specific language governing permissions and\n",
              "// limitations under the License.\n",
              "\n",
              "/**\n",
              " * @fileoverview Helpers for google.colab Python module.\n",
              " */\n",
              "(function(scope) {\n",
              "function span(text, styleAttributes = {}) {\n",
              "  const element = document.createElement('span');\n",
              "  element.textContent = text;\n",
              "  for (const key of Object.keys(styleAttributes)) {\n",
              "    element.style[key] = styleAttributes[key];\n",
              "  }\n",
              "  return element;\n",
              "}\n",
              "\n",
              "// Max number of bytes which will be uploaded at a time.\n",
              "const MAX_PAYLOAD_SIZE = 100 * 1024;\n",
              "\n",
              "function _uploadFiles(inputId, outputId) {\n",
              "  const steps = uploadFilesStep(inputId, outputId);\n",
              "  const outputElement = document.getElementById(outputId);\n",
              "  // Cache steps on the outputElement to make it available for the next call\n",
              "  // to uploadFilesContinue from Python.\n",
              "  outputElement.steps = steps;\n",
              "\n",
              "  return _uploadFilesContinue(outputId);\n",
              "}\n",
              "\n",
              "// This is roughly an async generator (not supported in the browser yet),\n",
              "// where there are multiple asynchronous steps and the Python side is going\n",
              "// to poll for completion of each step.\n",
              "// This uses a Promise to block the python side on completion of each step,\n",
              "// then passes the result of the previous step as the input to the next step.\n",
              "function _uploadFilesContinue(outputId) {\n",
              "  const outputElement = document.getElementById(outputId);\n",
              "  const steps = outputElement.steps;\n",
              "\n",
              "  const next = steps.next(outputElement.lastPromiseValue);\n",
              "  return Promise.resolve(next.value.promise).then((value) => {\n",
              "    // Cache the last promise value to make it available to the next\n",
              "    // step of the generator.\n",
              "    outputElement.lastPromiseValue = value;\n",
              "    return next.value.response;\n",
              "  });\n",
              "}\n",
              "\n",
              "/**\n",
              " * Generator function which is called between each async step of the upload\n",
              " * process.\n",
              " * @param {string} inputId Element ID of the input file picker element.\n",
              " * @param {string} outputId Element ID of the output display.\n",
              " * @return {!Iterable<!Object>} Iterable of next steps.\n",
              " */\n",
              "function* uploadFilesStep(inputId, outputId) {\n",
              "  const inputElement = document.getElementById(inputId);\n",
              "  inputElement.disabled = false;\n",
              "\n",
              "  const outputElement = document.getElementById(outputId);\n",
              "  outputElement.innerHTML = '';\n",
              "\n",
              "  const pickedPromise = new Promise((resolve) => {\n",
              "    inputElement.addEventListener('change', (e) => {\n",
              "      resolve(e.target.files);\n",
              "    });\n",
              "  });\n",
              "\n",
              "  const cancel = document.createElement('button');\n",
              "  inputElement.parentElement.appendChild(cancel);\n",
              "  cancel.textContent = 'Cancel upload';\n",
              "  const cancelPromise = new Promise((resolve) => {\n",
              "    cancel.onclick = () => {\n",
              "      resolve(null);\n",
              "    };\n",
              "  });\n",
              "\n",
              "  // Wait for the user to pick the files.\n",
              "  const files = yield {\n",
              "    promise: Promise.race([pickedPromise, cancelPromise]),\n",
              "    response: {\n",
              "      action: 'starting',\n",
              "    }\n",
              "  };\n",
              "\n",
              "  cancel.remove();\n",
              "\n",
              "  // Disable the input element since further picks are not allowed.\n",
              "  inputElement.disabled = true;\n",
              "\n",
              "  if (!files) {\n",
              "    return {\n",
              "      response: {\n",
              "        action: 'complete',\n",
              "      }\n",
              "    };\n",
              "  }\n",
              "\n",
              "  for (const file of files) {\n",
              "    const li = document.createElement('li');\n",
              "    li.append(span(file.name, {fontWeight: 'bold'}));\n",
              "    li.append(span(\n",
              "        `(${file.type || 'n/a'}) - ${file.size} bytes, ` +\n",
              "        `last modified: ${\n",
              "            file.lastModifiedDate ? file.lastModifiedDate.toLocaleDateString() :\n",
              "                                    'n/a'} - `));\n",
              "    const percent = span('0% done');\n",
              "    li.appendChild(percent);\n",
              "\n",
              "    outputElement.appendChild(li);\n",
              "\n",
              "    const fileDataPromise = new Promise((resolve) => {\n",
              "      const reader = new FileReader();\n",
              "      reader.onload = (e) => {\n",
              "        resolve(e.target.result);\n",
              "      };\n",
              "      reader.readAsArrayBuffer(file);\n",
              "    });\n",
              "    // Wait for the data to be ready.\n",
              "    let fileData = yield {\n",
              "      promise: fileDataPromise,\n",
              "      response: {\n",
              "        action: 'continue',\n",
              "      }\n",
              "    };\n",
              "\n",
              "    // Use a chunked sending to avoid message size limits. See b/62115660.\n",
              "    let position = 0;\n",
              "    do {\n",
              "      const length = Math.min(fileData.byteLength - position, MAX_PAYLOAD_SIZE);\n",
              "      const chunk = new Uint8Array(fileData, position, length);\n",
              "      position += length;\n",
              "\n",
              "      const base64 = btoa(String.fromCharCode.apply(null, chunk));\n",
              "      yield {\n",
              "        response: {\n",
              "          action: 'append',\n",
              "          file: file.name,\n",
              "          data: base64,\n",
              "        },\n",
              "      };\n",
              "\n",
              "      let percentDone = fileData.byteLength === 0 ?\n",
              "          100 :\n",
              "          Math.round((position / fileData.byteLength) * 100);\n",
              "      percent.textContent = `${percentDone}% done`;\n",
              "\n",
              "    } while (position < fileData.byteLength);\n",
              "  }\n",
              "\n",
              "  // All done.\n",
              "  yield {\n",
              "    response: {\n",
              "      action: 'complete',\n",
              "    }\n",
              "  };\n",
              "}\n",
              "\n",
              "scope.google = scope.google || {};\n",
              "scope.google.colab = scope.google.colab || {};\n",
              "scope.google.colab._files = {\n",
              "  _uploadFiles,\n",
              "  _uploadFilesContinue,\n",
              "};\n",
              "})(self);\n",
              "</script> "
            ]
          },
          "metadata": {}
        },
        {
          "output_type": "stream",
          "name": "stdout",
          "text": [
            "Saving DataEngineeringQ2.json to DataEngineeringQ2 (1).json\n"
          ]
        }
      ],
      "source": [
        "from google.colab import files\n",
        "uploaded=files.upload()"
      ]
    },
    {
      "cell_type": "code",
      "source": [
        "!pip install pandas"
      ],
      "metadata": {
        "colab": {
          "base_uri": "https://localhost:8080/"
        },
        "id": "6CbrxEvvZAfd",
        "outputId": "8bfb568e-e5a6-459e-903e-29858f695435"
      },
      "execution_count": 3,
      "outputs": [
        {
          "output_type": "stream",
          "name": "stdout",
          "text": [
            "Requirement already satisfied: pandas in /usr/local/lib/python3.10/dist-packages (2.2.2)\n",
            "Requirement already satisfied: numpy>=1.22.4 in /usr/local/lib/python3.10/dist-packages (from pandas) (1.26.4)\n",
            "Requirement already satisfied: python-dateutil>=2.8.2 in /usr/local/lib/python3.10/dist-packages (from pandas) (2.8.2)\n",
            "Requirement already satisfied: pytz>=2020.1 in /usr/local/lib/python3.10/dist-packages (from pandas) (2024.2)\n",
            "Requirement already satisfied: tzdata>=2022.7 in /usr/local/lib/python3.10/dist-packages (from pandas) (2024.2)\n",
            "Requirement already satisfied: six>=1.5 in /usr/local/lib/python3.10/dist-packages (from python-dateutil>=2.8.2->pandas) (1.17.0)\n"
          ]
        }
      ]
    },
    {
      "cell_type": "code",
      "source": [
        "file_name = \"DataEngineeringQ2.json\"\n",
        "with open(file_name, 'r') as file:\n",
        "    data = json.load(file)"
      ],
      "metadata": {
        "id": "C6gJII9EZfQ4"
      },
      "execution_count": 6,
      "outputs": []
    },
    {
      "cell_type": "code",
      "source": [
        "patient_details = []\n",
        "for record in data:\n",
        "    patient = record[\"patientDetails\"]\n",
        "    patient_details.append({\n",
        "        \"first_name\": patient.get(\"firstName\", \"\"),\n",
        "        \"last_name\": patient.get(\"lastName\", \"\"),\n",
        "        \"birth_date\": patient.get(\"birthDate\", None),\n",
        "        \"phone_no\": patient.get(\"phoneNumber\",\"\")\n",
        "    })\n",
        "\n",
        "patients_df = pd.DataFrame(patient_details)"
      ],
      "metadata": {
        "id": "tEfvB3FJZvwZ"
      },
      "execution_count": 52,
      "outputs": []
    },
    {
      "cell_type": "code",
      "source": [
        "def calculate_missing_percentage(df, columns):\n",
        "    total_records = len(df)\n",
        "    percentages = []\n",
        "    for col in columns:\n",
        "        missing = df[col].apply(lambda x: pd.isnull(x) or str(x).strip() == \"\").sum()\n",
        "        percentage = (missing / total_records) * 100\n",
        "        percentages.append(round(percentage, 2))\n",
        "    return percentages\n",
        "\n",
        "missing_percentages = calculate_missing_percentage(patients_df, [\"first_name\", \"last_name\", \"birth_date\"])\n",
        "print(\",\".join(map(str, missing_percentages)))"
      ],
      "metadata": {
        "colab": {
          "base_uri": "https://localhost:8080/"
        },
        "id": "Zrl1GW8tZ6uC",
        "outputId": "74c9a9d3-d46b-46bc-c0ee-e2fe8b4a6e9b"
      },
      "execution_count": 53,
      "outputs": [
        {
          "output_type": "stream",
          "name": "stdout",
          "text": [
            "0.0,70.97,32.26\n"
          ]
        }
      ]
    },
    {
      "cell_type": "code",
      "source": [
        "if \"gender\" in patients_df.columns:\n",
        "    patients_df[\"gender\"].replace([\"\", None], pd.NA, inplace=True)"
      ],
      "metadata": {
        "id": "i0DALYqsb0s9"
      },
      "execution_count": 54,
      "outputs": []
    },
    {
      "cell_type": "code",
      "source": [
        "if \"gender\" in patients_df.columns:\n",
        "    patients_df[\"gender\"].replace([\"\", None], pd.NA, inplace=True)\n",
        "    if not patients_df[\"gender\"].dropna().empty:\n",
        "        mode_gender = patients_df[\"gender\"].mode()[0]\n",
        "        patients_df[\"gender\"].fillna(mode_gender, inplace=True)\n",
        "        female_percentage = round((patients_df[\"gender\"].str.upper() == \"F\").mean() * 100, 2)\n",
        "        print(f\"Female Percentage: {female_percentage}\")\n",
        "    else:\n",
        "        print(\"The 'gender' column is empty or contains no valid data.\")\n",
        "else:\n",
        "    print(\"The 'gender' column is not present in the DataFrame.\")\n"
      ],
      "metadata": {
        "colab": {
          "base_uri": "https://localhost:8080/"
        },
        "id": "_hEho0pKclhW",
        "outputId": "f9fc15b0-a395-4b04-a7be-3d878d4e016f"
      },
      "execution_count": 23,
      "outputs": [
        {
          "output_type": "stream",
          "name": "stdout",
          "text": [
            "The 'gender' column is empty or contains no valid data.\n"
          ]
        }
      ]
    },
    {
      "cell_type": "code",
      "source": [
        "if \"gender\" in patients_df.columns:\n",
        "    patients_df[\"gender\"].replace([\"\", None], pd.NA, inplace=True)\n",
        "    if not patients_df[\"gender\"].dropna().empty:\n",
        "        mode_gender = patients_df[\"gender\"].mode()[0]\n",
        "        patients_df[\"gender\"].fillna(mode_gender, inplace=True)\n",
        "        female_percentage = round((patients_df[\"gender\"].str.upper() == \"F\").mean() * 100, 2)\n",
        "        print(female_percentage)\n",
        "    else:\n",
        "        print(\"No valid data in 'gender' column to compute percentage.\")\n",
        "else:\n",
        "    print(\"The 'gender' column is not present in the DataFrame.\")\n"
      ],
      "metadata": {
        "colab": {
          "base_uri": "https://localhost:8080/"
        },
        "id": "bWMLzRs0c4fw",
        "outputId": "bd379ae9-0e59-4fff-8c57-4925fa4d1b29"
      },
      "execution_count": 25,
      "outputs": [
        {
          "output_type": "stream",
          "name": "stdout",
          "text": [
            "No valid data in 'gender' column to compute percentage.\n"
          ]
        }
      ]
    },
    {
      "cell_type": "code",
      "source": [
        "patients_df[\"birth_year\"] = pd.to_datetime(patients_df[\"birth_date\"], errors=\"coerce\").dt.year\n",
        "patients_df[\"age\"] = 2024 - patients_df[\"birth_year\"]\n",
        "patients_df[\"age_group\"] = pd.cut(\n",
        "    patients_df[\"age\"], bins=[-1, 12, 19, 59, float('inf')], labels=[\"Child\", \"Teen\", \"Adult\", \"Senior\"], right=True\n",
        ")\n",
        "adult_count = patients_df[\"age_group\"].value_counts().get(\"Adult\", 0)\n",
        "print(adult_count)\n"
      ],
      "metadata": {
        "colab": {
          "base_uri": "https://localhost:8080/"
        },
        "id": "EyapSSIodgtl",
        "outputId": "1745aab4-3fbf-4abc-e53b-56f01c37bf53"
      },
      "execution_count": 26,
      "outputs": [
        {
          "output_type": "stream",
          "name": "stdout",
          "text": [
            "21\n"
          ]
        }
      ]
    },
    {
      "cell_type": "code",
      "source": [
        "patients_df[\"gender\"].replace([\"\", None], pd.NA, inplace=True)\n",
        "if not patients_df[\"gender\"].dropna().empty:\n",
        "    mode_gender = patients_df[\"gender\"].mode()[0]\n",
        "    patients_df[\"gender\"].fillna(mode_gender, inplace=True)\n",
        "    female_percentage = round((patients_df[\"gender\"].str.upper() == \"F\").mean() * 100, 2)\n",
        "    print(f\"Female Percentage: {female_percentage}\")\n",
        "else:\n",
        "    print(\"No valid data in 'gender' column to compute mode.\")\n"
      ],
      "metadata": {
        "colab": {
          "base_uri": "https://localhost:8080/"
        },
        "id": "95_NsnwYeA0c",
        "outputId": "bc4961a9-9efe-4055-aed7-d87f4d725f12"
      },
      "execution_count": 28,
      "outputs": [
        {
          "output_type": "stream",
          "name": "stdout",
          "text": [
            "No valid data in 'gender' column to compute mode.\n"
          ]
        }
      ]
    },
    {
      "cell_type": "code",
      "source": [
        "import pandas as pd\n",
        "import json\n",
        "file_path = '/content/DataEngineeringQ2.json'\n",
        "with open(file_path, 'r') as file:\n",
        "    data = json.load(file)\n",
        "medicine_details = []\n",
        "for record in data:\n",
        "    patient_id = record[\"patientDetails\"][\"_id\"]\n",
        "    medicines = record[\"consultationData\"].get(\"medicines\", [])\n",
        "    for medicine in medicines:\n",
        "        medicine_details.append({\n",
        "            \"patient_id\": patient_id,\n",
        "            \"medicine_id\": medicine.get(\"medicineId\", \"\")\n",
        "        })\n",
        "\n",
        "medicines_df = pd.DataFrame(medicine_details)\n",
        "average_medicines = round(medicines_df.groupby(\"patient_id\")[\"medicine_id\"].count().mean(), 2)\n",
        "print(f\"Average number of medicines prescribed: {average_medicines}\")\n"
      ],
      "metadata": {
        "colab": {
          "base_uri": "https://localhost:8080/"
        },
        "id": "DztqW-TPehG-",
        "outputId": "109f7b8b-933d-4826-ec9c-cc90dfae1ff6"
      },
      "execution_count": 31,
      "outputs": [
        {
          "output_type": "stream",
          "name": "stdout",
          "text": [
            "Average number of medicines prescribed: 2.75\n"
          ]
        }
      ]
    },
    {
      "cell_type": "code",
      "source": [
        "import pandas as pd\n",
        "import json\n",
        "\n",
        "file_path = '/content/DataEngineeringQ2.json'\n",
        "with open(file_path, 'r') as file:\n",
        "    data = json.load(file)\n",
        "\n",
        "medicine_details = []\n",
        "for record in data:\n",
        "    patient_id = record[\"patientDetails\"][\"_id\"]\n",
        "    medicines = record[\"consultationData\"].get(\"medicines\", [])\n",
        "    for medicine in medicines:\n",
        "        medicine_details.append({\n",
        "            \"patient_id\": patient_id,\n",
        "            \"medicine_id\": medicine.get(\"medicineId\", \"\"),\n",
        "            \"medicine_name\": medicine.get(\"medicineName\", \"\")\n",
        "        })\n",
        "\n",
        "medicines_df = pd.DataFrame(medicine_details)\n",
        "average_medicines = round(medicines_df.groupby(\"patient_id\")[\"medicine_id\"].count().mean(), 2)\n",
        "print(f\"Average number of medicines prescribed: {average_medicines}\")\n",
        "\n",
        "medicine_popularity = medicines_df.groupby(\"medicine_name\")[\"medicine_id\"].count().reset_index()\n",
        "medicine_popularity.columns = [\"medicine_name\", \"prescription_count\"]\n",
        "third_most_prescribed = medicine_popularity.sort_values(by=\"prescription_count\", ascending=False).iloc[2][\"medicine_name\"]\n",
        "print(f\"Third most prescribed medicine: {third_most_prescribed}\")"
      ],
      "metadata": {
        "colab": {
          "base_uri": "https://localhost:8080/"
        },
        "id": "zMKmvEMGfQKg",
        "outputId": "dffec7af-65c9-46d0-86f8-71c192b75386"
      },
      "execution_count": 33,
      "outputs": [
        {
          "output_type": "stream",
          "name": "stdout",
          "text": [
            "Average number of medicines prescribed: 2.75\n",
            "Third most prescribed medicine: C\n"
          ]
        }
      ]
    },
    {
      "cell_type": "code",
      "source": [
        "print(medicines_df.columns)\n",
        "\n"
      ],
      "metadata": {
        "colab": {
          "base_uri": "https://localhost:8080/"
        },
        "id": "4tWPZUKCgGdM",
        "outputId": "216c004c-af76-4a46-cada-98be7d1c95b9"
      },
      "execution_count": 39,
      "outputs": [
        {
          "output_type": "stream",
          "name": "stdout",
          "text": [
            "Index(['patient_id', 'medicine_id', 'medicine_name'], dtype='object')\n"
          ]
        }
      ]
    },
    {
      "cell_type": "code",
      "source": [
        "import pandas as pd\n",
        "import json\n",
        "\n",
        "file_path = '/content/DataEngineeringQ2.json'\n",
        "with open(file_path, 'r') as file:\n",
        "    data = json.load(file)\n",
        "medicine_details = []\n",
        "for record in data:\n",
        "    patient_id = record[\"patientDetails\"][\"_id\"]\n",
        "    medicines = record[\"consultationData\"].get(\"medicines\", [])\n",
        "    for medicine in medicines:\n",
        "        medicine_details.append({\n",
        "            \"patient_id\": patient_id,\n",
        "            \"medicine_id\": medicine.get(\"medicineId\", \"\"),\n",
        "            \"medicine_name\": medicine.get(\"medicineName\", \"\"),\n",
        "            \"is_active\": medicine.get(\"isActive\", False)\n",
        "        })\n",
        "\n",
        "medicines_df = pd.DataFrame(medicine_details)\n",
        "active_medicines = medicines_df[medicines_df[\"is_active\"] == True].shape[0]\n",
        "inactive_medicines = medicines_df[medicines_df[\"is_active\"] == False].shape[0]\n",
        "total_medicines = active_medicines + inactive_medicines\n",
        "active_percentage = round((active_medicines / total_medicines) * 100, 2)\n",
        "inactive_percentage = round((inactive_medicines / total_medicines) * 100, 2)\n",
        "active_inactive_distribution = f\"{active_percentage},{inactive_percentage}\"\n",
        "\n",
        "print(active_inactive_distribution)\n"
      ],
      "metadata": {
        "colab": {
          "base_uri": "https://localhost:8080/"
        },
        "id": "Dvsk6Vg8gHG9",
        "outputId": "f4e0cecd-a9c4-41d5-aa54-2d4e8e6127fd"
      },
      "execution_count": 40,
      "outputs": [
        {
          "output_type": "stream",
          "name": "stdout",
          "text": [
            "69.7,30.3\n"
          ]
        }
      ]
    },
    {
      "cell_type": "code",
      "source": [
        "print(patients_df.columns)"
      ],
      "metadata": {
        "colab": {
          "base_uri": "https://localhost:8080/"
        },
        "id": "TnNJkAbRhLkc",
        "outputId": "3be5ecbc-6260-4523-f4a8-fa9dd07249dd"
      },
      "execution_count": 43,
      "outputs": [
        {
          "output_type": "stream",
          "name": "stdout",
          "text": [
            "Index(['first_name', 'last_name', 'birth_date', 'gender', 'birth_year', 'age',\n",
            "       'age_group'],\n",
            "      dtype='object')\n"
          ]
        }
      ]
    }
  ]
}